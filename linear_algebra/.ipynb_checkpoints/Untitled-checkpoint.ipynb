{
 "cells": [
  {
   "cell_type": "markdown",
   "metadata": {},
   "source": [
    "# Linear Algebra for Machine Learning \n",
    "\n",
    "### A brief review on the importat concepts/operations from linear algebra that are utilized in Machine Learning"
   ]
  },
  {
   "cell_type": "markdown",
   "metadata": {},
   "source": [
    "Linear Algebra provides practitioners with compact representations and operations of linear equations.\n",
    "\n",
    "A classic high school algebra problem is solving simultaneous equations, like the following example:\n",
    "\n",
    "```algebra\n",
    "4x + 5y = -13\n",
    "-2x + 3y = 9\n",
    "```\n",
    "\n",
    "With the above example containing two equations and two variables, we can classically solve such problems with algebraic approaches of substitution and elimination.\n",
    "\n",
    "In matrix notation we can write such systems more compactly as:\n",
    "\n",
    "```algebra\n",
    "Ax = b\n",
    "```\n",
    "\n",
    "with:"
   ]
  },
  {
   "cell_type": "code",
   "execution_count": 1,
   "metadata": {},
   "outputs": [],
   "source": [
    "A = [\n",
    "    [4, -5],\n",
    "    [-2, 3]\n",
    "]\n",
    "\n",
    "b = [[-13],\n",
    "     [9]\n",
    "]\n",
    "\n"
   ]
  },
  {
   "cell_type": "code",
   "execution_count": null,
   "metadata": {},
   "outputs": [],
   "source": []
  }
 ],
 "metadata": {
  "kernelspec": {
   "display_name": "Python 3",
   "language": "python",
   "name": "python3"
  },
  "language_info": {
   "codemirror_mode": {
    "name": "ipython",
    "version": 3
   },
   "file_extension": ".py",
   "mimetype": "text/x-python",
   "name": "python",
   "nbconvert_exporter": "python",
   "pygments_lexer": "ipython3",
   "version": "3.7.1"
  }
 },
 "nbformat": 4,
 "nbformat_minor": 2
}
