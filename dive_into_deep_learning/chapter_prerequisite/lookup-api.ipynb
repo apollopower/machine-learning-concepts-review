{
 "cells": [
  {
   "cell_type": "markdown",
   "metadata": {},
   "source": [
    "# Checking MXNet documentation\n",
    "\n",
    "Constrained by the length of this book, it is impossible for us to list all of the concerns regarding MXNet functions and classes.  However, readers are encouraged to seek other documentation to improve their knowledge. \n",
    "\n",
    "## Finding all the functions and classes in the module\n",
    "\n",
    "If you want to know which functions and classes can be called in a module, we use the `dir` function. Next, we will print all the members or properties in the `nd.random` module."
   ]
  },
  {
   "cell_type": "code",
   "execution_count": 1,
   "metadata": {
    "attributes": {
     "classes": [],
     "id": "",
     "n": "1"
    }
   },
   "outputs": [
    {
     "name": "stdout",
     "output_type": "stream",
     "text": [
      "['NDArray', '_Null', '__all__', '__builtins__', '__cached__', '__doc__', '__file__', '__loader__', '__name__', '__package__', '__spec__', '_internal', '_random_helper', 'current_context', 'exponential', 'exponential_like', 'gamma', 'gamma_like', 'generalized_negative_binomial', 'generalized_negative_binomial_like', 'multinomial', 'negative_binomial', 'negative_binomial_like', 'normal', 'normal_like', 'numeric_types', 'poisson', 'poisson_like', 'randint', 'randn', 'shuffle', 'uniform', 'uniform_like']\n"
     ]
    }
   ],
   "source": [
    "from mxnet import nd\n",
    "\n",
    "print(dir(nd.random))"
   ]
  },
  {
   "cell_type": "markdown",
   "metadata": {},
   "source": [
    "Generally speaking, we can ignore functions that start and end with `__` (special objects in Python) or functions that start with a single `_`(usually internal functions). According to the remaining member names, we can then hazard a  guess that this module offers a generation method for various random numbers, including uniform distribution sampling (`uniform`), normal distribution sampling (`normal`), and Poisson sampling  (`poisson`).\n",
    "\n",
    "## Finding the usage of specific functions and classes\n",
    "\n",
    "For specific function or class usage, we can use the  `help` function. Let's take a look at the usage of the `ones_like,  such as the NDArray function as an example. `"
   ]
  },
  {
   "cell_type": "code",
   "execution_count": 2,
   "metadata": {},
   "outputs": [
    {
     "name": "stdout",
     "output_type": "stream",
     "text": [
      "Help on function ones_like:\n",
      "\n",
      "ones_like(data=None, out=None, name=None, **kwargs)\n",
      "    Return an array of ones with the same shape and type\n",
      "    as the input array.\n",
      "    \n",
      "    Examples::\n",
      "    \n",
      "      x = [[ 0.,  0.,  0.],\n",
      "           [ 0.,  0.,  0.]]\n",
      "    \n",
      "      ones_like(x) = [[ 1.,  1.,  1.],\n",
      "                      [ 1.,  1.,  1.]]\n",
      "    \n",
      "    \n",
      "    \n",
      "    Parameters\n",
      "    ----------\n",
      "    data : NDArray\n",
      "        The input\n",
      "    \n",
      "    out : NDArray, optional\n",
      "        The output NDArray to hold the result.\n",
      "    \n",
      "    Returns\n",
      "    -------\n",
      "    out : NDArray or list of NDArrays\n",
      "        The output of this function.\n",
      "\n"
     ]
    }
   ],
   "source": [
    "help(nd.ones_like)"
   ]
  },
  {
   "cell_type": "markdown",
   "metadata": {},
   "source": [
    "From the documentation, we learned that the `ones_like` function creates a new one with the same shape as the NDArray and an element of 1. Let's verify it:"
   ]
  },
  {
   "cell_type": "code",
   "execution_count": 3,
   "metadata": {},
   "outputs": [
    {
     "data": {
      "text/plain": [
       "\n",
       "[[1. 1. 1.]\n",
       " [1. 1. 1.]]\n",
       "<NDArray 2x3 @cpu(0)>"
      ]
     },
     "execution_count": 3,
     "metadata": {},
     "output_type": "execute_result"
    }
   ],
   "source": [
    "x = nd.array([[0, 0, 0], [2, 2, 2]])\n",
    "y = x.ones_like()\n",
    "y"
   ]
  },
  {
   "cell_type": "markdown",
   "metadata": {},
   "source": [
    "In the Jupyter notebook, we can use `?` to display the document in another window. For example, `nd.ones_like?` will create content that is almost identical to `help(nd.ones_like)`, but will be displayed in an extra window. In addition, if we use two `nd.ones_like??`, the function implementation code will also be displayed.  \n",
    "\n",
    "\n",
    "## Checking documentation on the MXNet website\n",
    "\n",
    "我们也可以在MXNet的网站上查阅相关文档。访问MXNet网站 [http://mxnet.apache.org/](http://mxnet.apache.org/) （如图2.1所示），点击网页顶部的下拉菜单“API”可查阅各个前端语言的接口。此外，我们也可以在网页右上方含“Search”字样的搜索框中直接搜索函数或类名称。\n",
    "\n",
    "![MXNet's official website (mxnet.apache.org). Click on the drop-down menu \"API\" at the top to see the APIs for each front-end language. We can also search for API names directly in the search box located at the top right of the page, with the word “search” written inside. ](../img/mxnet-website.png)\n",
    "\n",
    "Figure 2.2 shows the documentation for the `ones_like` function on the MXNet website.\n",
    "\n",
    "Documentation for `ones_like` function on the ![MXNet website. ](../img/ones_like.png)\n",
    "\n",
    "\n",
    "## Summary\n",
    "\n",
    "* If there is something new about about MXNet API for specific users, they can individually consult related documentation.  \n",
    "* You can view MXNet documentation through the `dir` and `help` functions, or on the MXNet official website.  \n",
    "\n",
    "\n",
    "## exercise\n",
    "\n",
    "* Check out the other operations supported by NDArray.\n",
    "\n",
    "\n",
    "## Scan the QR code to get to the [ ](https://discuss.gluon.ai/t/topic/7116) forum\n",
    "\n",
    "![](../img/qr_lookup-api.svg)"
   ]
  }
 ],
 "metadata": {
  "language_info": {
   "name": "python"
  }
 },
 "nbformat": 4,
 "nbformat_minor": 2
}