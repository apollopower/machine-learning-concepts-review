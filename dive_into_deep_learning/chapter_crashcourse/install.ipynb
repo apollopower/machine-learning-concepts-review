{
 "cells": [
  {
   "cell_type": "markdown",
   "metadata": {},
   "source": [
    "# Getting started with Gluon\n",
    "\n",
    "To get started we need to download and install the code needed to run the notebooks. Although skipping this section will not affect your theoretical understanding of sections to come, we strongly recommend that you get some hands-on experience. We believe that modifying and writing code and seeing the results thereof greatly enhances the benefit you can gain from the book. In a nutshell, to get started you need to do the following steps:\n",
    "\n",
    "1. Install conda\n",
    "1. Download the code that goes with the book\n",
    "1. Install GPU drivers if you have a GPU and haven't used it before\n",
    "1. Build the conda environment to run MXNet and the examples of the book\n",
    "\n",
    "\n",
    "## Conda\n",
    "\n",
    "For simplicity we recommend [conda](https://conda.io), a popular Python package manager to install all libraries.\n",
    "\n",
    "1. Download and install [Miniconda](https://conda.io/miniconda.html) at [conda.io/miniconda.html](https://conda.io/miniconda.html) based on your operating system.\n",
    "1. Update your shell by `source ~/.bashrc` (Linux) or `source ~/.bash_profile` (macOS). Make sure to add Anaconda to your PATH environment variable.\n",
    "1. Download the tarball containing the notebooks from this book. This can be found at [www.d2l.ai/d2l-en-1.0.zip](https://www.d2l.ai/d2l-en-1.0.zip). Alternatively feel free to clone the latest version from GitHub.\n",
    "1. Uncompress the ZIP file and move its contents to a folder for the tutorials.\n",
    "\n",
    "On Linux this can be accomplished as follows from the command line; For MacOS replace Linux by MacOSX in the first line, for Windows follow the links provided above."
   ]
  },
  {
   "cell_type": "markdown",
   "metadata": {},
   "source": [
    "```\n",
    "wget https://repo.anaconda.com/miniconda/Miniconda3-latest-Linux-x86_64.sh\n",
    "sh Miniconda3-latest-Linux-x86_64.sh\n",
    "mkdir d2l-en\n",
    "cd d2l-en\n",
    "curl https://www.d2l.ai/d2l-en-1.0.zip -o d2l-en.zip\n",
    "unzip d2l-en-1.0.zip\n",
    "rm d2l-en-1.0.zip\n",
    "```\n"
   ]
  },
  {
   "cell_type": "markdown",
   "metadata": {},
   "source": [
    "## GPU Support\n",
    "\n",
    "By default MXNet is installed without GPU support to ensure that it will run on any computer (including most laptops). If you should be so lucky to have a GPU enabled computer, you should modify the conda environment to download the CUDA enabled build. Obviously you need to have the appropriate drivers installed. In particular you need the following:\n",
    "\n",
    "1. Ensure that you install the [NVIDIA Drivers](https://www.nvidia.com/drivers) for your specific GPU.\n",
    "1. Install [CUDA](https://developer.nvidia.com/cuda-downloads), the programming language for GPUs.\n",
    "1. Install [CUDNN](https://developer.nvidia.com/cudnn), which contains many optimized libraries for deep learning.\n",
    "1. Install [TensorRT](https://developer.nvidia.com/tensorrt), if appropriate, for further acceleration.\n",
    "\n",
    "The installation process is somewhat lengthy and you will need to agree to a number of different licenses and use different installation scripts for it. Details will depend strongly on your choice of operating system and hardware.\n",
    "\n",
    "Next update the environment description in `environment.yml`. Replace `mxnet` by `mxnet-cu92` or whatever version of CUDA that you've got installed. For instance, if you're on CUDA 8.0, you need to replace `mxnet-cu92` with `mxnet-cu80`. You should do this *before* creating the conda environment. Otherwise you will need to rebuild it later. On Linux this looks as follows (on Windows you can use e.g. Notepad to edit `environment.yml` directly)."
   ]
  },
  {
   "cell_type": "markdown",
   "metadata": {},
   "source": [
    "```\n",
    "cd d2l\n",
    "emacs environment.yml\n",
    "```\n"
   ]
  },
  {
   "cell_type": "markdown",
   "metadata": {},
   "source": [
    "## Conda Environment\n",
    "\n",
    "In a nutshell, conda provides a mechanism for setting up a set of Python libraries in a reproducible and reliable manner, ensuring that all software dependencies are satisfied. Here's what is needed to get started.\n",
    "\n",
    "1. Create and activate the environment using conda. For convenience we created an `environment.yml` file to hold all configuration.\n",
    "1. Activate the environment.\n",
    "1. Open Jupyter notebooks to start experimenting.\n",
    "\n",
    "### Windows\n",
    "\n",
    "As before, open the command line terminal."
   ]
  },
  {
   "cell_type": "markdown",
   "metadata": {},
   "source": [
    "```\n",
    "conda env create -f environment.yml\n",
    "cd d2l-en\n",
    "activate gluon\n",
    "jupyter notebook\n",
    "```\n"
   ]
  },
  {
   "cell_type": "markdown",
   "metadata": {},
   "source": [
    "If you need to reactivate the set of libraries later, just skip the first line. This will ensure that your setup is active. Note that instead of Jupyter Notebooks you can also use JupyterLab via `jupyter lab` instead of `jupyter notebook`. This will give you a more powerful Jupyter environment (if you have JupyterLab installed). You can do this manually via `conda install jupyterlab` from within an active conda gluon environment.\n",
    "\n",
    "If your browser integration is working properly, starting Jupyter will open a new window in your browser. If this doesn't happen, go to http://localhost:8888 to open it manually. Some notebooks will automatically download the data set and pre-training model. You can adjust the location of the repository by overriding the `MXNET_GLUON_REPO` variable.\n",
    "\n",
    "### Linux and MacOSX\n",
    "\n",
    "The steps for Linux are quite similar, just that anaconda uses slightly different command line options."
   ]
  },
  {
   "cell_type": "markdown",
   "metadata": {},
   "source": [
    "```\n",
    "conda env create -f environment.yml\n",
    "cd d2l-en\n",
    "source activate gluon\n",
    "jupyter notebook\n",
    "```\n"
   ]
  },
  {
   "cell_type": "markdown",
   "metadata": {},
   "source": [
    "The main difference between Windows and other installations is that for the former you use `activate gluon` whereas for Linux and macOS you use `source activate gluon`. Beyond that, the same considerations as for Windows apply. Install JupyterLab if you need a more powerful environment\n",
    "\n",
    "## Updating Gluon\n",
    "\n",
    "In case you want to update the repository, if you installed a new version of CUDA and (or) MXNet, you can simply use the conda commands to do this. As before, make sure you update the packages accordingly."
   ]
  },
  {
   "cell_type": "markdown",
   "metadata": {},
   "source": [
    "```\n",
    "cd d2l-en\n",
    "conda env update -f environment.yml\n",
    "```\n"
   ]
  },
  {
   "cell_type": "markdown",
   "metadata": {},
   "source": [
    "## Summary\n",
    "\n",
    "* Conda is a Python package manager that ensures that all software dependencies are met.\n",
    "* `environment.yml` has the full configuration for the book. All notebooks are available for download or on GitHub.\n",
    "* Install GPU drivers and update the configuration if you have GPUs. This will shorten the time to train significantly.\n",
    "\n",
    "## Exercise\n",
    "\n",
    "1. Download the code for the book and install the runtime environment.\n",
    "1. Follow the links at the bottom of the section to the forum in case you have questions and need further help.\n",
    "1. Create an account on the forum and introduce yourself.\n",
    "\n",
    "## Discuss on our Forum\n",
    "\n",
    "<div id=\"discuss\" topic_id=\"2315\"></div>"
   ]
  }
 ],
 "metadata": {
  "language_info": {
   "name": "python"
  }
 },
 "nbformat": 4,
 "nbformat_minor": 2
}