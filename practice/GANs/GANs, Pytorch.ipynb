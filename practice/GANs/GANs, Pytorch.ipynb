{
 "cells": [
  {
   "cell_type": "markdown",
   "metadata": {},
   "source": [
    "# Generative Adverserial Networks : A Simple Implementation with Pytorch"
   ]
  },
  {
   "cell_type": "markdown",
   "metadata": {},
   "source": [
    "What are generative adverserial networks, most commonly referred to as GANs?\n",
    "\n",
    "A recent (Goodfellow, 2014) innovation in Deep Learning, GANs refer to the utilization of two unique neural networks to generate data that modeled from real-life inputs.\n",
    "\n",
    "For example, if a machine learning engineer is working with too small of a dataset, he/she could possibly implement GANs to build more training data for more effective AI work."
   ]
  },
  {
   "cell_type": "markdown",
   "metadata": {},
   "source": [
    "### How do GANs work?\n",
    "\n",
    "As mentioned, GANs are models based on two neural networks. We can refer to them as a __Generator__ and a __Discriminator__. Lets break down their roles:\n",
    "\n",
    "- __Generator:__ Works on simply creating new data that mimics some input training data.\n",
    "- __Discriminator:__ Has the job of identifying the generated fake data from the actual. It provides a probability of how likely the data it is looking at is genuine rather than fake.\n",
    "\n",
    "Through backpropagation, both neural nets can co-train each other, with the generator improving its own data creation and the discriminator learning to seperate the real and generated data."
   ]
  },
  {
   "cell_type": "markdown",
   "metadata": {},
   "source": [
    "## A Practical Implementation using Pytorch"
   ]
  },
  {
   "cell_type": "code",
   "execution_count": null,
   "metadata": {},
   "outputs": [],
   "source": []
  }
 ],
 "metadata": {
  "kernelspec": {
   "display_name": "Python 3",
   "language": "python",
   "name": "python3"
  },
  "language_info": {
   "codemirror_mode": {
    "name": "ipython",
    "version": 3
   },
   "file_extension": ".py",
   "mimetype": "text/x-python",
   "name": "python",
   "nbconvert_exporter": "python",
   "pygments_lexer": "ipython3",
   "version": "3.7.1"
  }
 },
 "nbformat": 4,
 "nbformat_minor": 2
}
